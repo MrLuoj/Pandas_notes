{
 "cells": [
  {
   "cell_type": "markdown",
   "metadata": {},
   "source": [
    "# Series与DataFrame"
   ]
  },
  {
   "cell_type": "code",
   "execution_count": 3,
   "metadata": {},
   "outputs": [
    {
     "name": "stdout",
     "output_type": "stream",
     "text": [
      "0    10.0\n",
      "1    20.0\n",
      "2    30.0\n",
      "3     NaN\n",
      "4    40.0\n",
      "5     NaN\n",
      "dtype: float64\n"
     ]
    }
   ],
   "source": [
    "import pandas as pd\n",
    "import numpy as np\n",
    "\n",
    "s = pd.Series([10,20,30,np.nan,40,np.nan])  #np.nan为NAN #Series是一个一维数组对象类似于NumPy的一维array。它除了包含一组数据还包含一组索引，所以可以把它理解为一组带索引的数组\n",
    "print(s)"
   ]
  },
  {
   "cell_type": "code",
   "execution_count": 10,
   "metadata": {},
   "outputs": [
    {
     "name": "stdout",
     "output_type": "stream",
     "text": [
      "                   A         B         C         D         E\n",
      "2020-03-14 -0.431012 -0.057585  1.441986 -1.733664 -0.060369\n",
      "2020-03-15 -1.552670  1.483783  1.193633  0.764952 -1.380757\n",
      "2020-03-16 -0.768702 -0.070659  0.275656 -0.427341  0.978974\n",
      "2020-03-17 -1.297969 -1.927380  0.883785 -1.623364 -0.546784\n",
      "2020-03-18 -1.169158 -1.959274 -0.659124 -0.422605 -0.158338\n",
      "2020-03-19 -1.585841  0.618231  1.326450  0.086789  0.079184\n",
      "2020-03-20 -0.578316  0.462025  0.476102 -0.999284 -0.787327\n",
      "2020-03-21  0.481506  1.819608 -1.486411 -0.000618 -0.536965\n",
      "2020-03-22 -0.887576 -0.283867 -0.994479 -0.829979 -1.458599\n",
      "2020-03-23 -1.705204 -1.447716 -0.229076 -1.986637  0.043057\n"
     ]
    }
   ],
   "source": [
    "import pandas as pd  \n",
    "import numpy as np\n",
    "\n",
    "dates = pd.date_range('20200314', periods = 10)     #pd.date_range()-日期范围：生成日期范围\n",
    "df = pd.DataFrame(np.random.randn(10,5), index = dates, columns = ['A', 'B', 'C', 'D', 'E'])   #构造10行5列的表格\n",
    "\n",
    "print(df)"
   ]
  },
  {
   "cell_type": "code",
   "execution_count": 12,
   "metadata": {},
   "outputs": [
    {
     "name": "stdout",
     "output_type": "stream",
     "text": [
      "2020-03-14    0.867032\n",
      "2020-03-15   -0.379213\n",
      "2020-03-16   -0.195070\n",
      "2020-03-17    1.207716\n",
      "2020-03-18    1.373183\n",
      "2020-03-19    0.539673\n",
      "2020-03-20    0.120000\n",
      "2020-03-21    1.514458\n",
      "2020-03-22   -0.086738\n",
      "2020-03-23   -0.651249\n",
      "Freq: D, Name: A, dtype: float64\n",
      "2020-03-14   -1.282315\n",
      "2020-03-15    2.357699\n",
      "2020-03-16   -0.588863\n",
      "2020-03-17    2.644836\n",
      "2020-03-18    0.175905\n",
      "2020-03-19    0.714162\n",
      "2020-03-20   -1.225713\n",
      "2020-03-21    1.315198\n",
      "2020-03-22    2.261567\n",
      "2020-03-23   -0.851918\n",
      "Freq: D, Name: E, dtype: float64\n"
     ]
    }
   ],
   "source": [
    "import pandas as pd  \n",
    "import numpy as np\n",
    "\n",
    "dates = pd.date_range('20200314', periods = 10)     #pd.date_range()-日期范围：生成日期范围\n",
    "df = pd.DataFrame(np.random.randn(10,5), index = dates, columns = ['A', 'B', 'C', 'D', 'E'])   #构造10行5列的表格\n",
    "\n",
    "print(df['A'])    #返回带索引的列\n",
    "print(df['E'])"
   ]
  },
  {
   "cell_type": "code",
   "execution_count": 14,
   "metadata": {},
   "outputs": [
    {
     "name": "stdout",
     "output_type": "stream",
     "text": [
      "    0   1   2   3   4\n",
      "0   0   1   2   3   4\n",
      "1   5   6   7   8   9\n",
      "2  10  11  12  13  14\n",
      "3  15  16  17  18  19\n"
     ]
    }
   ],
   "source": [
    "data_frame = pd.DataFrame(np.arange(20).reshape((4,5)))\n",
    "print(data_frame)"
   ]
  },
  {
   "cell_type": "code",
   "execution_count": 21,
   "metadata": {},
   "outputs": [
    {
     "name": "stdout",
     "output_type": "stream",
     "text": [
      "   A          B    C  D      E    F\n",
      "0  1 2020-03-14  1.0  3   test  foo\n",
      "1  1 2020-03-14  1.0  3  train  foo\n",
      "2  1 2020-03-14  1.0  3   test  foo\n",
      "3  1 2020-03-14  1.0  3  train  foo\n"
     ]
    }
   ],
   "source": [
    "data_frame2 = pd.DataFrame({'A' : 1,\n",
    "                            'B' : pd.Timestamp('20200314'),    #时间戳\n",
    "                            'C' : pd.Series(1, index = list(range(4)), dtype = 'float32'),  #一组带索引的数组\n",
    "                            'D' : np.array([3] * 4, dtype = 'int32'),  \n",
    "                            'E' : pd.Categorical([\"test\",\"train\",\"test\",\"train\"]),\n",
    "                            'F' : 'foo'\n",
    "})\n",
    "print(data_frame2)"
   ]
  },
  {
   "cell_type": "code",
   "execution_count": 22,
   "metadata": {},
   "outputs": [
    {
     "name": "stdout",
     "output_type": "stream",
     "text": [
      "A             int64\n",
      "B    datetime64[ns]\n",
      "C           float32\n",
      "D             int32\n",
      "E          category\n",
      "F            object\n",
      "dtype: object\n"
     ]
    }
   ],
   "source": [
    "print(data_frame2.dtypes)"
   ]
  },
  {
   "cell_type": "code",
   "execution_count": 23,
   "metadata": {},
   "outputs": [
    {
     "name": "stdout",
     "output_type": "stream",
     "text": [
      "Int64Index([0, 1, 2, 3], dtype='int64')\n"
     ]
    }
   ],
   "source": [
    "print(data_frame2.index)"
   ]
  },
  {
   "cell_type": "code",
   "execution_count": 24,
   "metadata": {},
   "outputs": [
    {
     "name": "stdout",
     "output_type": "stream",
     "text": [
      "Index(['A', 'B', 'C', 'D', 'E', 'F'], dtype='object')\n"
     ]
    }
   ],
   "source": [
    "print(data_frame2.columns)"
   ]
  },
  {
   "cell_type": "code",
   "execution_count": 25,
   "metadata": {},
   "outputs": [
    {
     "name": "stdout",
     "output_type": "stream",
     "text": [
      "[[1 Timestamp('2020-03-14 00:00:00') 1.0 3 'test' 'foo']\n",
      " [1 Timestamp('2020-03-14 00:00:00') 1.0 3 'train' 'foo']\n",
      " [1 Timestamp('2020-03-14 00:00:00') 1.0 3 'test' 'foo']\n",
      " [1 Timestamp('2020-03-14 00:00:00') 1.0 3 'train' 'foo']]\n"
     ]
    }
   ],
   "source": [
    "print(data_frame2.values)"
   ]
  },
  {
   "cell_type": "code",
   "execution_count": 27,
   "metadata": {},
   "outputs": [
    {
     "name": "stdout",
     "output_type": "stream",
     "text": [
      "         A    C    D\n",
      "count  4.0  4.0  4.0\n",
      "mean   1.0  1.0  3.0\n",
      "std    0.0  0.0  0.0\n",
      "min    1.0  1.0  3.0\n",
      "25%    1.0  1.0  3.0\n",
      "50%    1.0  1.0  3.0\n",
      "75%    1.0  1.0  3.0\n",
      "max    1.0  1.0  3.0\n"
     ]
    }
   ],
   "source": [
    "print(data_frame2.describe())"
   ]
  },
  {
   "cell_type": "code",
   "execution_count": 28,
   "metadata": {},
   "outputs": [
    {
     "name": "stdout",
     "output_type": "stream",
     "text": [
      "                     0                    1                    2  \\\n",
      "A                    1                    1                    1   \n",
      "B  2020-03-14 00:00:00  2020-03-14 00:00:00  2020-03-14 00:00:00   \n",
      "C                    1                    1                    1   \n",
      "D                    3                    3                    3   \n",
      "E                 test                train                 test   \n",
      "F                  foo                  foo                  foo   \n",
      "\n",
      "                     3  \n",
      "A                    1  \n",
      "B  2020-03-14 00:00:00  \n",
      "C                    1  \n",
      "D                    3  \n",
      "E                train  \n",
      "F                  foo  \n"
     ]
    }
   ],
   "source": [
    "print(data_frame2.T)"
   ]
  },
  {
   "cell_type": "code",
   "execution_count": 29,
   "metadata": {},
   "outputs": [
    {
     "name": "stdout",
     "output_type": "stream",
     "text": [
      "     F      E  D    C          B  A\n",
      "0  foo   test  3  1.0 2020-03-14  1\n",
      "1  foo  train  3  1.0 2020-03-14  1\n",
      "2  foo   test  3  1.0 2020-03-14  1\n",
      "3  foo  train  3  1.0 2020-03-14  1\n"
     ]
    }
   ],
   "source": [
    "print(data_frame2.sort_index(axis = 1, ascending = False))"
   ]
  },
  {
   "cell_type": "code",
   "execution_count": 30,
   "metadata": {},
   "outputs": [
    {
     "name": "stdout",
     "output_type": "stream",
     "text": [
      "   A          B    C  D      E    F\n",
      "0  1 2020-03-14  1.0  3   test  foo\n",
      "2  1 2020-03-14  1.0  3   test  foo\n",
      "1  1 2020-03-14  1.0  3  train  foo\n",
      "3  1 2020-03-14  1.0  3  train  foo\n"
     ]
    }
   ],
   "source": [
    "print(data_frame2.sort_values(by = 'E'))"
   ]
  },
  {
   "cell_type": "code",
   "execution_count": 2,
   "metadata": {},
   "outputs": [
    {
     "name": "stdout",
     "output_type": "stream",
     "text": [
      "             A   B   C   D\n",
      "2020-03-15   0   1   2   3\n",
      "2020-03-16   4   5   6   7\n",
      "2020-03-17   8   9  10  11\n",
      "2020-03-18  12  13  14  15\n",
      "2020-03-19  16  17  18  19\n"
     ]
    }
   ],
   "source": [
    "import pandas as pd\n",
    "import numpy as np\n",
    "\n",
    "dates = pd.date_range('20200315', periods = 5)\n",
    "df = pd.DataFrame(np.arange(20).reshape(5,4), index = dates, columns = ['A', 'B','C','D'])\n",
    "print(df)"
   ]
  },
  {
   "cell_type": "code",
   "execution_count": 3,
   "metadata": {},
   "outputs": [
    {
     "name": "stdout",
     "output_type": "stream",
     "text": [
      "2020-03-15     0\n",
      "2020-03-16     4\n",
      "2020-03-17     8\n",
      "2020-03-18    12\n",
      "2020-03-19    16\n",
      "Freq: D, Name: A, dtype: int64\n"
     ]
    }
   ],
   "source": [
    "print(df['A'])"
   ]
  },
  {
   "cell_type": "code",
   "execution_count": 4,
   "metadata": {},
   "outputs": [
    {
     "name": "stdout",
     "output_type": "stream",
     "text": [
      "2020-03-15     0\n",
      "2020-03-16     4\n",
      "2020-03-17     8\n",
      "2020-03-18    12\n",
      "2020-03-19    16\n",
      "Freq: D, Name: A, dtype: int64\n"
     ]
    }
   ],
   "source": [
    "print(df.A)"
   ]
  },
  {
   "cell_type": "code",
   "execution_count": 5,
   "metadata": {},
   "outputs": [
    {
     "name": "stdout",
     "output_type": "stream",
     "text": [
      "            A  B   C   D\n",
      "2020-03-15  0  1   2   3\n",
      "2020-03-16  4  5   6   7\n",
      "2020-03-17  8  9  10  11\n"
     ]
    }
   ],
   "source": [
    "print(df[0:3])"
   ]
  },
  {
   "cell_type": "code",
   "execution_count": 7,
   "metadata": {},
   "outputs": [
    {
     "name": "stdout",
     "output_type": "stream",
     "text": [
      "            A  B   C   D\n",
      "2020-03-15  0  1   2   3\n",
      "2020-03-16  4  5   6   7\n",
      "2020-03-17  8  9  10  11\n"
     ]
    }
   ],
   "source": [
    "print(df['20200315' : '20200317'])"
   ]
  },
  {
   "cell_type": "code",
   "execution_count": 14,
   "metadata": {},
   "outputs": [
    {
     "name": "stdout",
     "output_type": "stream",
     "text": [
      "             A   B   C   D\n",
      "2020-03-15   0   1   2   3\n",
      "2020-03-16   4   5   6   7\n",
      "2020-03-17   8   9  10  11\n",
      "2020-03-18  12  13  14  15\n",
      "2020-03-19  16  17  18  19\n",
      "\n",
      "\n",
      "A    0\n",
      "B    1\n",
      "C    2\n",
      "D    3\n",
      "Name: 2020-03-15 00:00:00, dtype: int64\n",
      "\n",
      "\n",
      "             A   B\n",
      "2020-03-15   0   1\n",
      "2020-03-16   4   5\n",
      "2020-03-17   8   9\n",
      "2020-03-18  12  13\n",
      "2020-03-19  16  17\n",
      "\n",
      "\n",
      "A    0\n",
      "B    1\n",
      "C    2\n",
      "Name: 2020-03-15 00:00:00, dtype: int64\n"
     ]
    }
   ],
   "source": [
    "import pandas as pd\n",
    "import numpy as np\n",
    "\n",
    "dates = pd.date_range('20200315', periods = 5)\n",
    "df = pd.DataFrame(np.arange(20).reshape(5,4), index = dates, columns = ['A', 'B','C','D'])\n",
    "print(df)\n",
    "print('\\n')\n",
    "print(df.loc['20200315'])    #打印某一行的标签\n",
    "print('\\n')\n",
    "print(df.loc[:,['A', 'B']])   #打印A、B属性的所有行\n",
    "print('\\n')\n",
    "print(df.loc['20200315', ['A', 'B','C']])"
   ]
  },
  {
   "cell_type": "code",
   "execution_count": 18,
   "metadata": {},
   "outputs": [
    {
     "name": "stdout",
     "output_type": "stream",
     "text": [
      "             A   B   C   D\n",
      "2020-03-15   0   1   2   3\n",
      "2020-03-16   4   5   6   7\n",
      "2020-03-17   8   9  10  11\n",
      "2020-03-18  12  13  14  15\n",
      "2020-03-19  16  17  18  19\n",
      "\n",
      "\n",
      "13\n",
      "\n",
      "\n",
      "            B  C\n",
      "2020-03-16  5  6\n",
      "\n",
      "\n",
      "             B   C\n",
      "2020-03-16   5   6\n",
      "2020-03-18  13  14\n",
      "2020-03-19  17  18\n"
     ]
    }
   ],
   "source": [
    "import pandas as pd\n",
    "import numpy as np\n",
    "\n",
    "dates = pd.date_range('20200315', periods = 5)\n",
    "df = pd.DataFrame(np.arange(20).reshape(5,4), index = dates, columns = ['A', 'B','C','D'])\n",
    "print(df)\n",
    "print('\\n')\n",
    "print(df.iloc[3,1])\n",
    "print('\\n')\n",
    "print(df.iloc[1:2,1:3])\n",
    "print('\\n')\n",
    "print(df.iloc[[1,3,4],1:3])"
   ]
  },
  {
   "cell_type": "code",
   "execution_count": 19,
   "metadata": {},
   "outputs": [
    {
     "name": "stdout",
     "output_type": "stream",
     "text": [
      "            A   C\n",
      "2020-03-15  0   2\n",
      "2020-03-16  4   6\n",
      "2020-03-17  8  10\n"
     ]
    },
    {
     "name": "stderr",
     "output_type": "stream",
     "text": [
      "/opt/anaconda3/lib/python3.7/site-packages/ipykernel_launcher.py:1: FutureWarning: \n",
      ".ix is deprecated. Please use\n",
      ".loc for label based indexing or\n",
      ".iloc for positional indexing\n",
      "\n",
      "See the documentation here:\n",
      "http://pandas.pydata.org/pandas-docs/stable/user_guide/indexing.html#ix-indexer-is-deprecated\n",
      "  \"\"\"Entry point for launching an IPython kernel.\n",
      "/opt/anaconda3/lib/python3.7/site-packages/pandas/core/indexing.py:822: FutureWarning: \n",
      ".ix is deprecated. Please use\n",
      ".loc for label based indexing or\n",
      ".iloc for positional indexing\n",
      "\n",
      "See the documentation here:\n",
      "http://pandas.pydata.org/pandas-docs/stable/user_guide/indexing.html#ix-indexer-is-deprecated\n",
      "  retval = getattr(retval, self.name)._getitem_axis(key, axis=i)\n"
     ]
    }
   ],
   "source": [
    "print(df.ix[:3, ['A', 'C']])"
   ]
  },
  {
   "cell_type": "code",
   "execution_count": 20,
   "metadata": {},
   "outputs": [
    {
     "name": "stdout",
     "output_type": "stream",
     "text": [
      "            A  B   C   D\n",
      "2020-03-15  0  1   2   3\n",
      "2020-03-16  4  5   6   7\n",
      "2020-03-17  8  9  10  11\n"
     ]
    }
   ],
   "source": [
    "print(df[df.C < 14])"
   ]
  },
  {
   "cell_type": "code",
   "execution_count": 5,
   "metadata": {},
   "outputs": [
    {
     "name": "stdout",
     "output_type": "stream",
     "text": [
      "             A   B   C   D\n",
      "2020-03-15   0   1   2   3\n",
      "2020-03-16   4   5   6   7\n",
      "2020-03-17   8   9  10  11\n",
      "2020-03-18  12  13  14  15\n",
      "2020-03-19  16  17  18  19\n"
     ]
    }
   ],
   "source": [
    "import pandas as pd\n",
    "import numpy as np\n",
    "\n",
    "dates = pd.date_range('20200315', periods = 5)\n",
    "df = pd.DataFrame(np.arange(20).reshape((5,4)), index = dates, columns = ['A','B','C','D'])\n",
    "print(df)"
   ]
  },
  {
   "cell_type": "code",
   "execution_count": 16,
   "metadata": {},
   "outputs": [
    {
     "name": "stdout",
     "output_type": "stream",
     "text": [
      "             A  B         C         D   F   E\n",
      "2020-03-15   0  1         2         3 NaN NaN\n",
      "2020-03-16   4  5         6         7 NaN NaN\n",
      "2020-03-17   8  0        10  20200318 NaN NaN\n",
      "2020-03-18  12  0  20200318        15 NaN NaN\n",
      "2020-03-19  16  0        18        19 NaN NaN\n"
     ]
    }
   ],
   "source": [
    "df.loc['20200318','C'] = 20200318     #标签索引\n",
    "df.iloc[2,3] = 20200318    #数字索引\n",
    "print(df)"
   ]
  },
  {
   "cell_type": "code",
   "execution_count": 21,
   "metadata": {},
   "outputs": [
    {
     "name": "stdout",
     "output_type": "stream",
     "text": [
      "             A  B         C         D   F   E\n",
      "2020-03-15   0  1         2         3 NaN NaN\n",
      "2020-03-16   4  5         6         7 NaN NaN\n",
      "2020-03-17   8  0        10  20200318 NaN NaN\n",
      "2020-03-18  12  0  20200318        15 NaN NaN\n",
      "2020-03-19  16  0        18        19 NaN NaN\n"
     ]
    },
    {
     "name": "stderr",
     "output_type": "stream",
     "text": [
      "/opt/anaconda3/lib/python3.7/site-packages/ipykernel_launcher.py:1: SettingWithCopyWarning: \n",
      "A value is trying to be set on a copy of a slice from a DataFrame\n",
      "\n",
      "See the caveats in the documentation: http://pandas.pydata.org/pandas-docs/stable/user_guide/indexing.html#returning-a-view-versus-a-copy\n",
      "  \"\"\"Entry point for launching an IPython kernel.\n"
     ]
    }
   ],
   "source": [
    "df.B[df.C>6] = 0    #C字段中大于6的那些行在B字段中全都设为0\n",
    "print(df)"
   ]
  },
  {
   "cell_type": "code",
   "execution_count": 28,
   "metadata": {},
   "outputs": [
    {
     "name": "stdout",
     "output_type": "stream",
     "text": [
      "             A   B   C   D\n",
      "2020-03-15   0   1   2   3\n",
      "2020-03-16   4   5   6   7\n",
      "2020-03-17   8   9  10  11\n",
      "2020-03-18  12  13  14  15\n",
      "2020-03-19  16  17  18  19\n"
     ]
    }
   ],
   "source": [
    "import pandas as pd\n",
    "import numpy as np\n",
    "\n",
    "dates = pd.date_range('20200315', periods = 5)\n",
    "df = pd.DataFrame(np.arange(20).reshape((5,4)), index = dates, columns = ['A','B','C','D'])\n",
    "print(df)"
   ]
  },
  {
   "cell_type": "code",
   "execution_count": 29,
   "metadata": {},
   "outputs": [
    {
     "name": "stdout",
     "output_type": "stream",
     "text": [
      "             A   B   C   D   E\n",
      "2020-03-15   0   1   2   3 NaN\n",
      "2020-03-16   4   5   6   7 NaN\n",
      "2020-03-17   8   9  10  11 NaN\n",
      "2020-03-18  12  13  14  15 NaN\n",
      "2020-03-19  16  17  18  19 NaN\n"
     ]
    }
   ],
   "source": [
    "df['E'] = np.nan\n",
    "print(df)"
   ]
  },
  {
   "cell_type": "code",
   "execution_count": 34,
   "metadata": {},
   "outputs": [
    {
     "name": "stdout",
     "output_type": "stream",
     "text": [
      "             A   B   C   D   E   F\n",
      "2020-03-15   0   1   2   3 NaN  11\n",
      "2020-03-16   4   5   6   7 NaN  22\n",
      "2020-03-17   8   9  10  11 NaN  33\n",
      "2020-03-18  12  13  14  15 NaN  44\n",
      "2020-03-19  16  17  18  19 NaN  55\n"
     ]
    }
   ],
   "source": [
    "df['F'] = pd.Series([11,22,33,44,55],index = pd.date_range('20200315',periods = 5))\n",
    "print(df)"
   ]
  },
  {
   "cell_type": "markdown",
   "metadata": {},
   "source": [
    "# 处理丢失的数据"
   ]
  },
  {
   "cell_type": "code",
   "execution_count": 3,
   "metadata": {},
   "outputs": [
    {
     "name": "stdout",
     "output_type": "stream",
     "text": [
      "             A     B   C   D     E   F\n",
      "2020-03-16   0   1.0   2   3   4.0   5\n",
      "2020-03-17   6   7.0   8   9  10.0  11\n",
      "2020-03-18  12   NaN  14  15  16.0  17\n",
      "2020-03-19  18  19.0  20  21   NaN  23\n",
      "2020-03-20  24  25.0  26  27  28.0  29\n"
     ]
    }
   ],
   "source": [
    "import numpy as np\n",
    "import pandas as pd\n",
    "dates = pd.date_range('20200316',periods = 5)\n",
    "df = pd.DataFrame(np.arange(30).reshape((5,6)), index = dates, columns = ['A','B','C','D','E','F'])\n",
    "df.iloc[2,1] = np.nan\n",
    "df.iloc[3,4] = np.nan\n",
    "print(df)"
   ]
  },
  {
   "cell_type": "code",
   "execution_count": 6,
   "metadata": {},
   "outputs": [
    {
     "name": "stdout",
     "output_type": "stream",
     "text": [
      "             A     B   C   D     E   F\n",
      "2020-03-16   0   1.0   2   3   4.0   5\n",
      "2020-03-17   6   7.0   8   9  10.0  11\n",
      "2020-03-20  24  25.0  26  27  28.0  29\n"
     ]
    }
   ],
   "source": [
    "t = df.dropna(axis = 0,how = 'any')  # 0: 对行进行操作; 1: 对列进行操作  any': 只要存在 NaN 就 drop 掉; 'all': 必须全部是 NaN 才 drop\n",
    "print(t)"
   ]
  },
  {
   "cell_type": "code",
   "execution_count": 8,
   "metadata": {},
   "outputs": [
    {
     "name": "stdout",
     "output_type": "stream",
     "text": [
      "             A     B   C   D     E   F\n",
      "2020-03-16   0   1.0   2   3   4.0   5\n",
      "2020-03-17   6   7.0   8   9  10.0  11\n",
      "2020-03-18  12   0.0  14  15  16.0  17\n",
      "2020-03-19  18  19.0  20  21   0.0  23\n",
      "2020-03-20  24  25.0  26  27  28.0  29\n"
     ]
    }
   ],
   "source": [
    "v = df.fillna(0)    #用0替换含有NaN的值\n",
    "print(v)"
   ]
  },
  {
   "cell_type": "code",
   "execution_count": 10,
   "metadata": {},
   "outputs": [
    {
     "name": "stdout",
     "output_type": "stream",
     "text": [
      "                A      B      C      D      E      F\n",
      "2020-03-16  False  False  False  False  False  False\n",
      "2020-03-17  False  False  False  False  False  False\n",
      "2020-03-18  False   True  False  False  False  False\n",
      "2020-03-19  False  False  False  False   True  False\n",
      "2020-03-20  False  False  False  False  False  False\n"
     ]
    }
   ],
   "source": [
    "w = df.isnull()\n",
    "print(w)"
   ]
  },
  {
   "cell_type": "code",
   "execution_count": 11,
   "metadata": {},
   "outputs": [
    {
     "name": "stdout",
     "output_type": "stream",
     "text": [
      "True\n"
     ]
    }
   ],
   "source": [
    "print(np.any(df.isnull() == True))"
   ]
  },
  {
   "cell_type": "markdown",
   "metadata": {},
   "source": [
    "# concat（合并）"
   ]
  },
  {
   "cell_type": "code",
   "execution_count": 12,
   "metadata": {},
   "outputs": [
    {
     "name": "stdout",
     "output_type": "stream",
     "text": [
      "     a    b    c    d    e\n",
      "0  6.0  6.0  6.0  6.0  6.0\n",
      "1  6.0  6.0  6.0  6.0  6.0\n",
      "2  6.0  6.0  6.0  6.0  6.0\n",
      "3  6.0  6.0  6.0  6.0  6.0\n",
      "0  7.0  7.0  7.0  7.0  7.0\n",
      "1  7.0  7.0  7.0  7.0  7.0\n",
      "2  7.0  7.0  7.0  7.0  7.0\n",
      "3  7.0  7.0  7.0  7.0  7.0\n",
      "0  8.0  8.0  8.0  8.0  8.0\n",
      "1  8.0  8.0  8.0  8.0  8.0\n",
      "2  8.0  8.0  8.0  8.0  8.0\n",
      "3  8.0  8.0  8.0  8.0  8.0\n"
     ]
    }
   ],
   "source": [
    "import pandas as pd\n",
    "import numpy as np\n",
    "\n",
    "df1 = pd.DataFrame(np.ones((4,5))*6, columns = ['a','b','c','d','e'])\n",
    "df2 = pd.DataFrame(np.ones((4,5))*7, columns = ['a','b','c','d','e'])\n",
    "df3 = pd.DataFrame(np.ones((4,5))*8, columns = ['a','b','c','d','e'])\n",
    "\n",
    "res = pd.concat([df1,df2,df3],axis = 0)\n",
    "print(res)"
   ]
  },
  {
   "cell_type": "code",
   "execution_count": 16,
   "metadata": {},
   "outputs": [
    {
     "name": "stdout",
     "output_type": "stream",
     "text": [
      "      a    b    c    d    e\n",
      "0   6.0  6.0  6.0  6.0  6.0\n",
      "1   6.0  6.0  6.0  6.0  6.0\n",
      "2   6.0  6.0  6.0  6.0  6.0\n",
      "3   6.0  6.0  6.0  6.0  6.0\n",
      "4   7.0  7.0  7.0  7.0  7.0\n",
      "5   7.0  7.0  7.0  7.0  7.0\n",
      "6   7.0  7.0  7.0  7.0  7.0\n",
      "7   7.0  7.0  7.0  7.0  7.0\n",
      "8   8.0  8.0  8.0  8.0  8.0\n",
      "9   8.0  8.0  8.0  8.0  8.0\n",
      "10  8.0  8.0  8.0  8.0  8.0\n",
      "11  8.0  8.0  8.0  8.0  8.0\n"
     ]
    }
   ],
   "source": [
    "import pandas as pd\n",
    "import numpy as np\n",
    "\n",
    "df1 = pd.DataFrame(np.ones((4,5))*6, columns = ['a','b','c','d','e'])\n",
    "df2 = pd.DataFrame(np.ones((4,5))*7, columns = ['a','b','c','d','e'])\n",
    "df3 = pd.DataFrame(np.ones((4,5))*8, columns = ['a','b','c','d','e'])\n",
    "\n",
    "res = pd.concat([df1,df2,df3],axis = 0,ignore_index = True)\n",
    "print(res)"
   ]
  },
  {
   "cell_type": "code",
   "execution_count": 3,
   "metadata": {},
   "outputs": [
    {
     "name": "stdout",
     "output_type": "stream",
     "text": [
      "     a    b    c    d    e\n",
      "0  6.0  6.0  6.0  6.0  6.0\n",
      "1  6.0  6.0  6.0  6.0  6.0\n",
      "2  6.0  6.0  6.0  6.0  6.0\n",
      "3  6.0  6.0  6.0  6.0  6.0\n",
      "\n",
      "\n",
      "     b    c    d    e    f\n",
      "0  7.0  7.0  7.0  7.0  7.0\n",
      "1  7.0  7.0  7.0  7.0  7.0\n",
      "2  7.0  7.0  7.0  7.0  7.0\n",
      "3  7.0  7.0  7.0  7.0  7.0\n",
      "     a    b    c    d    e    f\n",
      "0  6.0  6.0  6.0  6.0  6.0  NaN\n",
      "1  6.0  6.0  6.0  6.0  6.0  NaN\n",
      "2  6.0  6.0  6.0  6.0  6.0  NaN\n",
      "3  6.0  6.0  6.0  6.0  6.0  NaN\n",
      "0  NaN  7.0  7.0  7.0  7.0  7.0\n",
      "1  NaN  7.0  7.0  7.0  7.0  7.0\n",
      "2  NaN  7.0  7.0  7.0  7.0  7.0\n",
      "3  NaN  7.0  7.0  7.0  7.0  7.0\n"
     ]
    },
    {
     "name": "stderr",
     "output_type": "stream",
     "text": [
      "/opt/anaconda3/lib/python3.7/site-packages/ipykernel_launcher.py:9: FutureWarning: Sorting because non-concatenation axis is not aligned. A future version\n",
      "of pandas will change to not sort by default.\n",
      "\n",
      "To accept the future behavior, pass 'sort=False'.\n",
      "\n",
      "To retain the current behavior and silence the warning, pass 'sort=True'.\n",
      "\n",
      "  if __name__ == '__main__':\n"
     ]
    }
   ],
   "source": [
    "import pandas as pd\n",
    "import numpy as np\n",
    "\n",
    "df1 = pd.DataFrame(np.ones((4,5))*6, columns = ['a','b','c','d','e'])\n",
    "df2 = pd.DataFrame(np.ones((4,5))*7, columns = ['b','c','d','e','f'])\n",
    "print(df1)\n",
    "print('\\n')\n",
    "print(df2)\n",
    "res = pd.concat([df1,df2],axis = 0,join = 'outer')   #纵向\"外\"合并df1与df2\n",
    "print(res)"
   ]
  },
  {
   "cell_type": "code",
   "execution_count": 7,
   "metadata": {},
   "outputs": [
    {
     "name": "stdout",
     "output_type": "stream",
     "text": [
      "     a    b    c    d    e\n",
      "1  6.0  6.0  6.0  6.0  6.0\n",
      "2  6.0  6.0  6.0  6.0  6.0\n",
      "3  6.0  6.0  6.0  6.0  6.0\n",
      "4  6.0  6.0  6.0  6.0  6.0\n",
      "\n",
      "\n",
      "     b    c    d    e    f\n",
      "2  7.0  7.0  7.0  7.0  7.0\n",
      "3  7.0  7.0  7.0  7.0  7.0\n",
      "4  7.0  7.0  7.0  7.0  7.0\n",
      "5  7.0  7.0  7.0  7.0  7.0\n",
      "\n",
      "\n",
      "     b    c    d    e\n",
      "1  6.0  6.0  6.0  6.0\n",
      "2  6.0  6.0  6.0  6.0\n",
      "3  6.0  6.0  6.0  6.0\n",
      "4  6.0  6.0  6.0  6.0\n",
      "2  7.0  7.0  7.0  7.0\n",
      "3  7.0  7.0  7.0  7.0\n",
      "4  7.0  7.0  7.0  7.0\n",
      "5  7.0  7.0  7.0  7.0\n",
      "\n",
      "\n",
      "     b    c    d    e\n",
      "0  6.0  6.0  6.0  6.0\n",
      "1  6.0  6.0  6.0  6.0\n",
      "2  6.0  6.0  6.0  6.0\n",
      "3  6.0  6.0  6.0  6.0\n",
      "4  7.0  7.0  7.0  7.0\n",
      "5  7.0  7.0  7.0  7.0\n",
      "6  7.0  7.0  7.0  7.0\n",
      "7  7.0  7.0  7.0  7.0\n"
     ]
    }
   ],
   "source": [
    "import numpy as np\n",
    "import pandas as pd\n",
    "\n",
    "df1 = pd.DataFrame(np.ones((4,5))*6, columns = ['a','b','c','d','e'],index = [1,2,3,4])\n",
    "df2 = pd.DataFrame(np.ones((4,5))*7, columns = ['b','c','d','e','f'],index = [2,3,4,5])\n",
    "\n",
    "print(df1)\n",
    "print('\\n')\n",
    "print(df2)\n",
    "print('\\n')\n",
    "res = pd.concat([df1,df2],axis = 0, join = 'inner')\n",
    "print(res)\n",
    "print('\\n')\n",
    "res_sort = pd.concat([df1,df2], axis = 0, join = 'inner',ignore_index = True)  #重置index并打印结果\n",
    "print(res_sort)"
   ]
  },
  {
   "cell_type": "code",
   "execution_count": 10,
   "metadata": {},
   "outputs": [
    {
     "name": "stdout",
     "output_type": "stream",
     "text": [
      "     a    b    c    d    e\n",
      "1  6.0  6.0  6.0  6.0  6.0\n",
      "2  6.0  6.0  6.0  6.0  6.0\n",
      "3  6.0  6.0  6.0  6.0  6.0\n",
      "4  6.0  6.0  6.0  6.0  6.0\n",
      "\n",
      "\n",
      "     b    c    d    e    f\n",
      "2  7.0  7.0  7.0  7.0  7.0\n",
      "3  7.0  7.0  7.0  7.0  7.0\n",
      "4  7.0  7.0  7.0  7.0  7.0\n",
      "5  7.0  7.0  7.0  7.0  7.0\n",
      "\n",
      "\n",
      "     a    b    c    d    e    b    c    d    e    f\n",
      "1  6.0  6.0  6.0  6.0  6.0  NaN  NaN  NaN  NaN  NaN\n",
      "2  6.0  6.0  6.0  6.0  6.0  7.0  7.0  7.0  7.0  7.0\n",
      "3  6.0  6.0  6.0  6.0  6.0  7.0  7.0  7.0  7.0  7.0\n",
      "4  6.0  6.0  6.0  6.0  6.0  7.0  7.0  7.0  7.0  7.0\n",
      "5  NaN  NaN  NaN  NaN  NaN  7.0  7.0  7.0  7.0  7.0\n",
      "\n",
      "\n",
      "     a    b    c    d    e    b    c    d    e    f\n",
      "1  6.0  6.0  6.0  6.0  6.0  NaN  NaN  NaN  NaN  NaN\n",
      "2  6.0  6.0  6.0  6.0  6.0  7.0  7.0  7.0  7.0  7.0\n",
      "3  6.0  6.0  6.0  6.0  6.0  7.0  7.0  7.0  7.0  7.0\n",
      "4  6.0  6.0  6.0  6.0  6.0  7.0  7.0  7.0  7.0  7.0\n"
     ]
    },
    {
     "name": "stderr",
     "output_type": "stream",
     "text": [
      "/opt/anaconda3/lib/python3.7/site-packages/ipykernel_launcher.py:14: FutureWarning: The join_axes-keyword is deprecated. Use .reindex or .reindex_like on the result to achieve the same functionality.\n",
      "  \n"
     ]
    }
   ],
   "source": [
    "import numpy as np\n",
    "import pandas as pd\n",
    "\n",
    "df1 = pd.DataFrame(np.ones((4,5))*6,columns = ['a','b','c','d','e'],index = [1,2,3,4])\n",
    "df2 = pd.DataFrame(np.ones((4,5))*7,columns = ['b','c','d','e','f'],index = [2,3,4,5])\n",
    "\n",
    "print(df1)\n",
    "print('\\n')\n",
    "print(df2)\n",
    "print('\\n')\n",
    "res = pd.concat([df1,df2],axis = 1)    #原始合并，没有的行补充NaN\n",
    "print(res)    \n",
    "print('\\n')\n",
    "res_sort = pd.concat([df1,df2],axis = 1,join_axes = [df1.index])   #按照df1的index合并\n",
    "print(res_sort)"
   ]
  },
  {
   "cell_type": "code",
   "execution_count": 17,
   "metadata": {},
   "outputs": [
    {
     "name": "stdout",
     "output_type": "stream",
     "text": [
      "     a    b    c    d    e\n",
      "1  6.0  6.0  6.0  6.0  6.0\n",
      "2  6.0  6.0  6.0  6.0  6.0\n",
      "3  6.0  6.0  6.0  6.0  6.0\n",
      "4  6.0  6.0  6.0  6.0  6.0\n",
      "     b    c    d    e    f\n",
      "2  7.0  7.0  7.0  7.0  7.0\n",
      "3  7.0  7.0  7.0  7.0  7.0\n",
      "4  7.0  7.0  7.0  7.0  7.0\n",
      "5  7.0  7.0  7.0  7.0  7.0\n",
      "     a    b    c    d    e    f\n",
      "0  6.0  6.0  6.0  6.0  6.0  NaN\n",
      "1  6.0  6.0  6.0  6.0  6.0  NaN\n",
      "2  6.0  6.0  6.0  6.0  6.0  NaN\n",
      "3  6.0  6.0  6.0  6.0  6.0  NaN\n",
      "4  NaN  7.0  7.0  7.0  7.0  7.0\n",
      "5  NaN  7.0  7.0  7.0  7.0  7.0\n",
      "6  NaN  7.0  7.0  7.0  7.0  7.0\n",
      "7  NaN  7.0  7.0  7.0  7.0  7.0\n",
      "      a    b    c    d    e    f    g\n",
      "0   6.0  6.0  6.0  6.0  6.0  NaN  NaN\n",
      "1   6.0  6.0  6.0  6.0  6.0  NaN  NaN\n",
      "2   6.0  6.0  6.0  6.0  6.0  NaN  NaN\n",
      "3   6.0  6.0  6.0  6.0  6.0  NaN  NaN\n",
      "4   NaN  7.0  7.0  7.0  7.0  7.0  NaN\n",
      "5   NaN  7.0  7.0  7.0  7.0  7.0  NaN\n",
      "6   NaN  7.0  7.0  7.0  7.0  7.0  NaN\n",
      "7   NaN  7.0  7.0  7.0  7.0  7.0  NaN\n",
      "8   NaN  NaN  8.0  8.0  8.0  8.0  8.0\n",
      "9   NaN  NaN  8.0  8.0  8.0  8.0  8.0\n",
      "10  NaN  NaN  8.0  8.0  8.0  8.0  8.0\n",
      "11  NaN  NaN  8.0  8.0  8.0  8.0  8.0\n",
      "     a    b    c    d    e\n",
      "0  6.0  6.0  6.0  6.0  6.0\n",
      "1  6.0  6.0  6.0  6.0  6.0\n",
      "2  6.0  6.0  6.0  6.0  6.0\n",
      "3  6.0  6.0  6.0  6.0  6.0\n",
      "4  1.0  2.0  3.0  4.0  5.0\n"
     ]
    }
   ],
   "source": [
    "import numpy as np\n",
    "import pandas as pd\n",
    "\n",
    "df1 = pd.DataFrame(np.ones((4,5))*6,columns = ['a','b','c','d','e'],index = [1,2,3,4])\n",
    "df2 = pd.DataFrame(np.ones((4,5))*7,columns = ['b','c','d','e','f'],index = [2,3,4,5])\n",
    "df3 = pd.DataFrame(np.ones((4,5))*8,columns = ['c','d','e','f','g'],index = [3,4,5,6])\n",
    "s1 = pd.Series([1,2,3,4,5],index = ['a','b','c','d','e'])\n",
    "print(df1)\n",
    "print(df2)\n",
    "\n",
    "res_df1_df2 = df1.append(df2, ignore_index = True)    #将df2合并到df1的下面，以及重置index，并打印出结果\n",
    "print(res_df1_df2)\n",
    "res_df1_df2_df3 = df1.append([df2,df3],ignore_index = True)   #合并多个df，将df2与df3合并至df1的下面，以及重置index，并打印出结果\n",
    "print(res_df1_df2_df3)\n",
    "res_series = df1.append(s1,ignore_index = True)\n",
    "print(res_series)"
   ]
  },
  {
   "cell_type": "markdown",
   "metadata": {},
   "source": [
    "merge合并"
   ]
  },
  {
   "cell_type": "code",
   "execution_count": 23,
   "metadata": {},
   "outputs": [
    {
     "name": "stdout",
     "output_type": "stream",
     "text": [
      "  key   A   B\n",
      "0  K0  A0  B0\n",
      "1  K1  A1  B1\n",
      "2  K2  A2  B2\n",
      "3  K3  A3  B3\n",
      "\n",
      "\n",
      "  key   C   D\n",
      "0  K0  C0  D0\n",
      "1  K1  C1  D1\n",
      "2  K2  C2  D2\n",
      "3  K3  C3  D3\n",
      "\n",
      "\n",
      "  key   A   B   C   D\n",
      "0  K0  A0  B0  C0  D0\n",
      "1  K1  A1  B1  C1  D1\n",
      "2  K2  A2  B2  C2  D2\n",
      "3  K3  A3  B3  C3  D3\n"
     ]
    }
   ],
   "source": [
    "import pandas as pd\n",
    "\n",
    "left = pd.DataFrame({\"key\":[\"K0\",\"K1\",\"K2\",\"K3\"],\n",
    "                    \"A\":[\"A0\",\"A1\",\"A2\",\"A3\"],\n",
    "                    \"B\":[\"B0\",\"B1\",\"B2\",\"B3\"]})\n",
    "right = pd.DataFrame({\"key\":[\"K0\",\"K1\",\"K2\",\"K3\"],\n",
    "                     \"C\":[\"C0\",\"C1\",\"C2\",\"C3\"],\n",
    "                     \"D\":[\"D0\",\"D1\",\"D2\",\"D3\"]})\n",
    "\n",
    "print(left)\n",
    "print('\\n')\n",
    "print(right)\n",
    "print('\\n')\n",
    "res = pd.merge(left, right, on = \"key\")    #依据key column合并，并打印出\n",
    "print(res)"
   ]
  },
  {
   "cell_type": "code",
   "execution_count": 1,
   "metadata": {},
   "outputs": [
    {
     "name": "stdout",
     "output_type": "stream",
     "text": [
      "   col1 col_left\n",
      "0     0        a\n",
      "1     1        b\n",
      "\n",
      "\n",
      "   col1  col_right\n",
      "0     1          2\n",
      "1     2          2\n",
      "2     3          2\n"
     ]
    }
   ],
   "source": [
    "import pandas as pd\n",
    "\n",
    "df1 = pd.DataFrame({'col1':[0,1],'col_left':['a','b']})\n",
    "df2 = pd.DataFrame({'col1':[1,2,3],'col_right':[2,2,2]})\n",
    "\n",
    "print(df1)\n",
    "print('\\n')\n",
    "print(df2)"
   ]
  },
  {
   "cell_type": "code",
   "execution_count": 4,
   "metadata": {},
   "outputs": [
    {
     "name": "stdout",
     "output_type": "stream",
     "text": [
      "   col1 col_left  col_right      _merge\n",
      "0     0        a        NaN   left_only\n",
      "1     1        b        2.0        both\n",
      "2     2      NaN        2.0  right_only\n",
      "3     3      NaN        2.0  right_only\n",
      "\n",
      "\n",
      "   col1 col_left  col_right indicator_column\n",
      "0     0        a        NaN        left_only\n",
      "1     1        b        2.0             both\n",
      "2     2      NaN        2.0       right_only\n",
      "3     3      NaN        2.0       right_only\n"
     ]
    }
   ],
   "source": [
    "res = pd.merge(df1,df2,on = 'col1',how = 'outer',indicator = True)   # 依据col1进行合并，并启用indicator=True，最后打印出\n",
    "print(res)\n",
    "print('\\n')\n",
    "res_self = pd.merge(df1,df2,on = 'col1',how = 'outer',indicator = 'indicator_column')   # 自定indicator column的名称，并打印出\n",
    "print(res_self)"
   ]
  },
  {
   "cell_type": "code",
   "execution_count": 11,
   "metadata": {},
   "outputs": [
    {
     "name": "stdout",
     "output_type": "stream",
     "text": [
      "     A   B\n",
      "K0  A0  B0\n",
      "K1  A1  B1\n",
      "K2  A2  B2\n",
      "\n",
      "\n",
      "     C   D\n",
      "K0  C0  D0\n",
      "K2  C2  D2\n",
      "K3  C3  D3\n",
      "\n",
      "\n",
      "      A    B    C    D\n",
      "K0   A0   B0   C0   D0\n",
      "K1   A1   B1  NaN  NaN\n",
      "K2   A2   B2   C2   D2\n",
      "K3  NaN  NaN   C3   D3\n",
      "\n",
      "\n",
      "     A   B   C   D\n",
      "K0  A0  B0  C0  D0\n",
      "K2  A2  B2  C2  D2\n"
     ]
    }
   ],
   "source": [
    "import pandas as pd\n",
    "\n",
    "left = pd.DataFrame({'A':['A0','A1','A2'],\n",
    "                     'B':['B0','B1','B2']},\n",
    "                   index = ['K0','K1','K2'])\n",
    "right = pd.DataFrame({'C':['C0','C2','C3'],\n",
    "                     'D':['D0','D2','D3']},\n",
    "                    index = ['K0','K2','K3'])\n",
    "print(left)\n",
    "print('\\n')\n",
    "print(right)\n",
    "print('\\n')\n",
    "res_outer = pd.merge(left,right,left_index=True,right_index=True,how='outer') #依据左右资料集的index进行合并，how='outer',并打印出\n",
    "print(res_outer)\n",
    "print('\\n')\n",
    "res_inner = pd.merge(left,right,left_index=True,right_index=True,how='inner') #依据左右资料集的index进行合并，how='inner',并打印出\n",
    "print(res_inner)"
   ]
  },
  {
   "cell_type": "code",
   "execution_count": 12,
   "metadata": {},
   "outputs": [
    {
     "name": "stdout",
     "output_type": "stream",
     "text": [
      "    k  age_boy  age_girl\n",
      "0  K0        1         4\n",
      "1  K0        1         5\n"
     ]
    }
   ],
   "source": [
    "import pandas as pd\n",
    "\n",
    "#定义资料集\n",
    "boys = pd.DataFrame({'k': ['K0', 'K1', 'K2'], 'age': [1, 2, 3]})\n",
    "girls = pd.DataFrame({'k': ['K0', 'K0', 'K3'], 'age': [4, 5, 6]})\n",
    "\n",
    "#使用suffixes解决overlapping的问题\n",
    "res = pd.merge(boys, girls, on='k', suffixes=['_boy', '_girl'], how='inner')\n",
    "print(res)"
   ]
  },
  {
   "cell_type": "markdown",
   "metadata": {},
   "source": [
    "# Pandas——数据可视化"
   ]
  },
  {
   "cell_type": "code",
   "execution_count": 19,
   "metadata": {},
   "outputs": [
    {
     "data": {
      "image/png": "[encoded data removed]",
      "text/plain": [
       "<Figure size 432x288 with 1 Axes>"
      ]
     },
     "metadata": {
      "needs_background": "light"
     },
     "output_type": "display_data"
    }
   ],
   "source": [
    "import pandas as pd\n",
    "import numpy as np\n",
    "import matplotlib.pyplot as plt\n",
    "\n",
    "data = pd.Series(np.random.randn(100),index=np.arange(100))  # 随机生成1000个数据服从标准正太分布\n",
    "data.cumsum()    # 为了方便观看效果, 我们累加这个数据\n",
    "data.plot()    # pandas 数据可以直接观看其可视化形式\n",
    "plt.show()"
   ]
  },
  {
   "cell_type": "code",
   "execution_count": 23,
   "metadata": {},
   "outputs": [
    {
     "name": "stdout",
     "output_type": "stream",
     "text": [
      "           A         B         C         D\n",
      "0   0.356278  0.695544  0.037459  0.218070\n",
      "1  -2.318120 -0.361304 -0.431628 -0.292266\n",
      "2  -1.499535 -0.729194 -0.704680 -0.468927\n",
      "3  -0.611659 -0.205809 -0.445131 -1.070592\n",
      "4   0.236346  1.073370 -2.362497  1.759785\n",
      "..       ...       ...       ...       ...\n",
      "95 -0.706344 -0.081765  1.378673  1.493728\n",
      "96  0.888323 -0.766568  0.041108 -0.231693\n",
      "97  0.343081 -1.002205 -0.365103 -0.948568\n",
      "98  0.356411 -0.441453  0.226751  0.528797\n",
      "99  0.310254  0.497724  0.333274  0.116574\n",
      "\n",
      "[100 rows x 4 columns]\n"
     ]
    },
    {
     "data": {
      "image/png": "[encoded data removed]",
      "text/plain": [
       "<Figure size 432x288 with 1 Axes>"
      ]
     },
     "metadata": {
      "needs_background": "light"
     },
     "output_type": "display_data"
    }
   ],
   "source": [
    "data = pd.DataFrame(np.random.randn(100,4),index=np.arange(100),columns=list(\"ABCD\"))\n",
    "data.cumsum()\n",
    "print(data)\n",
    "data.plot()\n",
    "plt.show()"
   ]
  },
  {
   "cell_type": "code",
   "execution_count": 27,
   "metadata": {},
   "outputs": [
    {
     "data": {
      "image/png": "[encoded data removed]",
      "text/plain": [
       "<Figure size 432x288 with 1 Axes>"
      ]
     },
     "metadata": {
      "needs_background": "light"
     },
     "output_type": "display_data"
    }
   ],
   "source": [
    "ax = data.plot.scatter(x='A',y='B',color='DarkBlue',label='Class1')\n",
    "# 将之下这个 data 画在上一个 ax 上面\n",
    "data.plot.scatter(x='A',y='C',color='LightGreen',label='Class2',ax=ax)\n",
    "plt.show()"
   ]
  },
  {
   "cell_type": "code",
   "execution_count": null,
   "metadata": {},
   "outputs": [],
   "source": []
  }
 ],
 "metadata": {
  "kernelspec": {
   "display_name": "Python 3",
   "language": "python",
   "name": "python3"
  },
  "language_info": {
   "codemirror_mode": {
    "name": "ipython",
    "version": 3
   },
   "file_extension": ".py",
   "mimetype": "text/x-python",
   "name": "python",
   "nbconvert_exporter": "python",
   "pygments_lexer": "ipython3",
   "version": "3.7.4"
  }
 },
 "nbformat": 4,
 "nbformat_minor": 2
}
